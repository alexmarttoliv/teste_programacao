{
 "cells": [
  {
   "cell_type": "markdown",
   "metadata": {},
   "source": [
    "# Teste de Programação<br> Alexandre Victor Martins de Oliveira"
   ]
  },
  {
   "cell_type": "markdown",
   "metadata": {},
   "source": [
    "## Questão 1"
   ]
  },
  {
   "cell_type": "markdown",
   "metadata": {},
   "source": [
    "1)\tImplemente, na linguagem em que estiver mais confortável, uma função que recebe uma lista L e um número inteiro (int) k e faz k vezes uma “rotação” para a esquerda (se k for negativo, é para a direita).\n",
    "\n",
    "Exemplos de input / output:\n",
    "\n",
    "L  = [1,2,3,4], k = 2 => [3,4,1,2]\n",
    "\n",
    "L = [1,2,3,4,5,6], k = - 7 => [6,1,2,3,4,5]\n"
   ]
  },
  {
   "cell_type": "code",
   "execution_count": 1,
   "metadata": {},
   "outputs": [],
   "source": [
    "lista1 = [1,2,3,4]\n",
    "lista2 = [1,2,3,4,5,6]"
   ]
  },
  {
   "cell_type": "code",
   "execution_count": 2,
   "metadata": {},
   "outputs": [],
   "source": [
    "def rotacionar(lista, k):\n",
    "    lista = [lista[(i + k) % len(lista)] \n",
    "        for i, j in enumerate(lista)] \n",
    "    \n",
    "    return lista"
   ]
  },
  {
   "cell_type": "code",
   "execution_count": 3,
   "metadata": {},
   "outputs": [
    {
     "data": {
      "text/plain": [
       "[3, 4, 1, 2]"
      ]
     },
     "execution_count": 3,
     "metadata": {},
     "output_type": "execute_result"
    }
   ],
   "source": [
    "rotacionar(lista1, 2)"
   ]
  },
  {
   "cell_type": "code",
   "execution_count": 4,
   "metadata": {},
   "outputs": [
    {
     "data": {
      "text/plain": [
       "[6, 1, 2, 3, 4, 5]"
      ]
     },
     "execution_count": 4,
     "metadata": {},
     "output_type": "execute_result"
    }
   ],
   "source": [
    "rotacionar(lista2, -7)"
   ]
  },
  {
   "cell_type": "markdown",
   "metadata": {},
   "source": [
    "## Questão 2"
   ]
  },
  {
   "cell_type": "markdown",
   "metadata": {},
   "source": [
    "2)\tImplemente, na linguagem em que estiver mais confortável, uma função que recebe um número inteiro (int) e retorna um booleano: verdadeiro se a representação binária do inteiro for um palíndromo (ver definições abaixo), e falso caso contrário.\n",
    "\n",
    "Descreva também os casos de teste que você usaria para testar sua função.\n",
    "\n",
    "Definições:\n",
    "A representação binária de um número inteiro positivo é a representação única desse número como soma de potências de 2, ex:\n",
    "5 = 1 * 4 + 0 * 2 + 1 * 1 => 101\n",
    "22 = 1 * 16 + 0 * 8 + 1 * 4 + 1 * 2 + 0 * 1 => 10110 \n",
    "\n",
    "Uma palavra ou número é um palíndromo se for igual lido de frente para trás ou de trás para frente, por exemplo: arara, ou 158851 \n"
   ]
  },
  {
   "cell_type": "code",
   "execution_count": 5,
   "metadata": {},
   "outputs": [],
   "source": [
    "def palindromo(n):\n",
    "    if type(n) != int:\n",
    "        print('Não é um número inteiro.')\n",
    "    \n",
    "    else:\n",
    "        binario = bin(n)[2:]\n",
    "        binario_invertido = binario[::-1]\n",
    "        if binario == binario_invertido:\n",
    "            palindromo = True\n",
    "        else:\n",
    "            palindromo = False\n",
    "            \n",
    "        return palindromo"
   ]
  },
  {
   "cell_type": "code",
   "execution_count": 6,
   "metadata": {},
   "outputs": [
    {
     "data": {
      "text/plain": [
       "True"
      ]
     },
     "execution_count": 6,
     "metadata": {},
     "output_type": "execute_result"
    }
   ],
   "source": [
    "palindromo(5)"
   ]
  },
  {
   "cell_type": "markdown",
   "metadata": {},
   "source": [
    "#### Teste para a função \"palindromo\""
   ]
  },
  {
   "cell_type": "markdown",
   "metadata": {},
   "source": [
    "Abaixo encontra-se a função \"verificar_palindromos\" que prova a outra função criada acima. <br>\n",
    "Nela, entra-se com dois parâmetros que definem o limite de um range de números inteiros. <br>\n",
    "Então, aplica-se a função \"palindromos\", criada anteriormente, em cada item do range para verificar se o seu binário corresponde a um palíndromo ou não. E, o item identificado como verdadeiro é impresso com seu respectivo binário."
   ]
  },
  {
   "cell_type": "code",
   "execution_count": 7,
   "metadata": {},
   "outputs": [],
   "source": [
    "def verificar_palindromos(i, j):\n",
    "    lista_palindromos = []\n",
    "    \n",
    "    for k in list(range(i, j)):\n",
    "        if palindromo(k) == True:\n",
    "            b = bin(k)[2:]\n",
    "            lista_palindromos.append(k)\n",
    "            print(f'\\033[4mNúmero: {k}\\033[0m', '\\n', f'Binário: {b}')\n",
    "    \n",
    "    print(f'\\033[4mLista de inteiros cujos binários correspondem a um palíndromo:\\033[0m {lista_palindromos}')\n",
    "    "
   ]
  },
  {
   "cell_type": "code",
   "execution_count": 8,
   "metadata": {},
   "outputs": [
    {
     "name": "stdout",
     "output_type": "stream",
     "text": [
      "\u001b[4mNúmero: 0\u001b[0m \n",
      " Binário: 0\n",
      "\u001b[4mNúmero: 1\u001b[0m \n",
      " Binário: 1\n",
      "\u001b[4mNúmero: 3\u001b[0m \n",
      " Binário: 11\n",
      "\u001b[4mNúmero: 5\u001b[0m \n",
      " Binário: 101\n",
      "\u001b[4mNúmero: 7\u001b[0m \n",
      " Binário: 111\n",
      "\u001b[4mNúmero: 9\u001b[0m \n",
      " Binário: 1001\n",
      "\u001b[4mNúmero: 15\u001b[0m \n",
      " Binário: 1111\n",
      "\u001b[4mNúmero: 17\u001b[0m \n",
      " Binário: 10001\n",
      "\u001b[4mNúmero: 21\u001b[0m \n",
      " Binário: 10101\n",
      "\u001b[4mLista de inteiros cujos binários correspondem a um palíndromo:\u001b[0m [0, 1, 3, 5, 7, 9, 15, 17, 21]\n"
     ]
    }
   ],
   "source": [
    "verificar_palindromos(0, 23)"
   ]
  },
  {
   "cell_type": "markdown",
   "metadata": {},
   "source": [
    "## Questão 3"
   ]
  },
  {
   "cell_type": "markdown",
   "metadata": {},
   "source": [
    "3)\tImplemente uma função que recebe uma lista de pares de números reais, que representam intervalos fechados, determine a união desses intervalos, e retorne uma nova lista de pares de números reais que represente o conjunto de intervalos fechados disjuntos (ou seja, com interseção vazia) que compõem essa união.\n",
    "\n",
    "Exemplo de input: [2, 5], [1, 3], [7, 10], [10, 15], [-3.5, -1.5], [12, 20]\n",
    "\n",
    "Output: [-3.5, -1.5], [1, 5], [7, 20]  \n"
   ]
  },
  {
   "cell_type": "code",
   "execution_count": 9,
   "metadata": {},
   "outputs": [],
   "source": [
    "#deve-se intalar o modulo intervals pelo terminal utilizando o pip: pip install python-intervals==1.10.0\n",
    "\n",
    "import intervals as I "
   ]
  },
  {
   "cell_type": "code",
   "execution_count": 10,
   "metadata": {},
   "outputs": [
    {
     "data": {
      "text/plain": [
       "[[-3.5,-1.5], [1,5], [7,20]]"
      ]
     },
     "execution_count": 10,
     "metadata": {},
     "output_type": "execute_result"
    }
   ],
   "source": [
    "list(I.closed(2,5) | I.closed(1,3) | I.closed(7, 10) | I.closed(10, 15) | I.closed(-3.5, -1.5) | I.closed(12, 20))"
   ]
  },
  {
   "cell_type": "markdown",
   "metadata": {},
   "source": [
    "## Questão 4"
   ]
  },
  {
   "cell_type": "markdown",
   "metadata": {},
   "source": [
    "4)\tEscolha para essa questão uma linguagem que permita orientação a objeto.\n",
    "\n",
    "Crie um objeto chamado Trade (classe / struct) com os seguintes campos: TradeDate (formato data), Instrument (formato string), SideIsBuy (booleano – verdadeiro se foi uma compra), Quantity e Price (ambos formatos numérico, não necessariamente inteiro).\n",
    "\n",
    "Construa também duas funções:\n",
    "a)\tFunção que recebe uma lista de objetos Trade e retorne o financeiro total (quantidade vezes preço) agrupado por data (venda soma, pois você recebe dinheiro, e compra subtrai). Deve ser uma lista de pares (Data, Financeiro Total) incluindo todas as datas em que ocorreu pelo menos um trade (o financeiro pode ser zero, por exemplo, se houve uma compra e uma venda no mesmo preço).\n",
    "\n",
    "b)\tFunção que recebe uma lista de objetos Trade e uma data (dois parâmetros), e retorne uma lista de pares (Instrument, Quantidade Total) com a posição de cada instrumento na data.\n",
    "\n",
    "Cada instrumento (string) deve aparecer uma única vez, com a quantidade que é a soma de todas as compras menos a soma de todas as vendas que ocorreram até a data fornecida (incluindo a própria data). Caso o resultado seja zero, o instrumento deve ser omitido (não deve aparecer na lista).\n"
   ]
  },
  {
   "cell_type": "code",
   "execution_count": 11,
   "metadata": {},
   "outputs": [],
   "source": [
    "class Trade:  \n",
    "    def __init__(self, TradeList):  \n",
    "        self.TradeList = TradeList\n",
    "    \n",
    "    def converter_df(self):\n",
    "        import pandas as pd\n",
    "        #dados = {'TradeDate': self.TradeDate, 'Instrument': self.Instrument, 'SideIsBuy': self.SideIsBuy, \n",
    "             #'Quantity': self.Quantity, 'Price': self.Price}\n",
    "        colunas = ['TradeDate', 'Instrument', 'SideIsBuy', 'Quantity', 'Price']    \n",
    "        df = pd.DataFrame(self.TradeList, columns=colunas)\n",
    "        df['TradeDate'] = pd.to_datetime(df['TradeDate'])\n",
    "        \n",
    "        return df\n",
    "        \n",
    "    def financeiro_total(self):\n",
    "        df = self.converter_df()\n",
    "        df['Movimento'] = df['SideIsBuy'].apply(lambda x: 1 if x == False else -1)\n",
    "        df['FinanceiroTotal'] = df['Quantity']*df['Price']*df['Movimento']\n",
    "        \n",
    "        return df\n",
    "    \n",
    "    def financeiro_total_por_data(self):\n",
    "        df = self.financeiro_total()\n",
    "        agrupado_financeiro_total = df.groupby('TradeDate').agg({'FinanceiroTotal': 'sum'})\n",
    "        \n",
    "        return agrupado_financeiro_total\n",
    "    \n",
    "    def posicao_instrumento(self, data):\n",
    "        from datetime import datetime\n",
    "        import pandas as pd\n",
    "        data = datetime.strptime(data, '%Y-%m-%d')\n",
    "        df = self.financeiro_total()\n",
    "        df['Posicao'] = df['Quantity']*df['Movimento']\n",
    "        df_filtrado = df[df['TradeDate'] <= data]\n",
    "        \n",
    "        df_novo = pd.pivot_table(df_filtrado, values='Posicao', index='Instrument', aggfunc='sum')\n",
    "        df_novo['Instrumento'] = df_novo.index\n",
    "        \n",
    "        lista_pares = df_novo[['Instrumento', 'Posicao']].values.tolist()\n",
    "        \n",
    "        for par in lista_pares:\n",
    "            if par[1] == 0:\n",
    "                lista_pares.remove(par)\n",
    "        \n",
    "        return lista_pares\n",
    "        "
   ]
  },
  {
   "cell_type": "code",
   "execution_count": 12,
   "metadata": {},
   "outputs": [],
   "source": [
    "TradeList = [['2020-01-01','Renda Fixa1', False, 100, 9.7], ['2020-09-02','Renda Variavel2', True, 200, 45], ['2020-01-01','Renda Fixa1', True, 100, 9.7], ['2020-07-01','Renda Variavel', True, 180, 89.7], ['2020-07-01','Renda Variavel3', False, 500, 98.65]]"
   ]
  },
  {
   "cell_type": "code",
   "execution_count": 13,
   "metadata": {},
   "outputs": [
    {
     "data": {
      "text/html": [
       "<div>\n",
       "<style scoped>\n",
       "    .dataframe tbody tr th:only-of-type {\n",
       "        vertical-align: middle;\n",
       "    }\n",
       "\n",
       "    .dataframe tbody tr th {\n",
       "        vertical-align: top;\n",
       "    }\n",
       "\n",
       "    .dataframe thead th {\n",
       "        text-align: right;\n",
       "    }\n",
       "</style>\n",
       "<table border=\"1\" class=\"dataframe\">\n",
       "  <thead>\n",
       "    <tr style=\"text-align: right;\">\n",
       "      <th></th>\n",
       "      <th>FinanceiroTotal</th>\n",
       "    </tr>\n",
       "    <tr>\n",
       "      <th>TradeDate</th>\n",
       "      <th></th>\n",
       "    </tr>\n",
       "  </thead>\n",
       "  <tbody>\n",
       "    <tr>\n",
       "      <th>2020-01-01</th>\n",
       "      <td>0.0</td>\n",
       "    </tr>\n",
       "    <tr>\n",
       "      <th>2020-07-01</th>\n",
       "      <td>33179.0</td>\n",
       "    </tr>\n",
       "    <tr>\n",
       "      <th>2020-09-02</th>\n",
       "      <td>-9000.0</td>\n",
       "    </tr>\n",
       "  </tbody>\n",
       "</table>\n",
       "</div>"
      ],
      "text/plain": [
       "            FinanceiroTotal\n",
       "TradeDate                  \n",
       "2020-01-01              0.0\n",
       "2020-07-01          33179.0\n",
       "2020-09-02          -9000.0"
      ]
     },
     "execution_count": 13,
     "metadata": {},
     "output_type": "execute_result"
    }
   ],
   "source": [
    "Trade(TradeList).financeiro_total_por_data()"
   ]
  },
  {
   "cell_type": "code",
   "execution_count": 14,
   "metadata": {},
   "outputs": [
    {
     "data": {
      "text/html": [
       "<div>\n",
       "<style scoped>\n",
       "    .dataframe tbody tr th:only-of-type {\n",
       "        vertical-align: middle;\n",
       "    }\n",
       "\n",
       "    .dataframe tbody tr th {\n",
       "        vertical-align: top;\n",
       "    }\n",
       "\n",
       "    .dataframe thead th {\n",
       "        text-align: right;\n",
       "    }\n",
       "</style>\n",
       "<table border=\"1\" class=\"dataframe\">\n",
       "  <thead>\n",
       "    <tr style=\"text-align: right;\">\n",
       "      <th></th>\n",
       "      <th>TradeDate</th>\n",
       "      <th>Instrument</th>\n",
       "      <th>SideIsBuy</th>\n",
       "      <th>Quantity</th>\n",
       "      <th>Price</th>\n",
       "      <th>Movimento</th>\n",
       "      <th>FinanceiroTotal</th>\n",
       "    </tr>\n",
       "  </thead>\n",
       "  <tbody>\n",
       "    <tr>\n",
       "      <th>0</th>\n",
       "      <td>2020-01-01</td>\n",
       "      <td>Renda Fixa1</td>\n",
       "      <td>False</td>\n",
       "      <td>100</td>\n",
       "      <td>9.70</td>\n",
       "      <td>1</td>\n",
       "      <td>970.0</td>\n",
       "    </tr>\n",
       "    <tr>\n",
       "      <th>1</th>\n",
       "      <td>2020-09-02</td>\n",
       "      <td>Renda Variavel2</td>\n",
       "      <td>True</td>\n",
       "      <td>200</td>\n",
       "      <td>45.00</td>\n",
       "      <td>-1</td>\n",
       "      <td>-9000.0</td>\n",
       "    </tr>\n",
       "    <tr>\n",
       "      <th>2</th>\n",
       "      <td>2020-01-01</td>\n",
       "      <td>Renda Fixa1</td>\n",
       "      <td>True</td>\n",
       "      <td>100</td>\n",
       "      <td>9.70</td>\n",
       "      <td>-1</td>\n",
       "      <td>-970.0</td>\n",
       "    </tr>\n",
       "    <tr>\n",
       "      <th>3</th>\n",
       "      <td>2020-07-01</td>\n",
       "      <td>Renda Variavel</td>\n",
       "      <td>True</td>\n",
       "      <td>180</td>\n",
       "      <td>89.70</td>\n",
       "      <td>-1</td>\n",
       "      <td>-16146.0</td>\n",
       "    </tr>\n",
       "    <tr>\n",
       "      <th>4</th>\n",
       "      <td>2020-07-01</td>\n",
       "      <td>Renda Variavel3</td>\n",
       "      <td>False</td>\n",
       "      <td>500</td>\n",
       "      <td>98.65</td>\n",
       "      <td>1</td>\n",
       "      <td>49325.0</td>\n",
       "    </tr>\n",
       "  </tbody>\n",
       "</table>\n",
       "</div>"
      ],
      "text/plain": [
       "   TradeDate       Instrument  SideIsBuy  Quantity  Price  Movimento  \\\n",
       "0 2020-01-01      Renda Fixa1      False       100   9.70          1   \n",
       "1 2020-09-02  Renda Variavel2       True       200  45.00         -1   \n",
       "2 2020-01-01      Renda Fixa1       True       100   9.70         -1   \n",
       "3 2020-07-01   Renda Variavel       True       180  89.70         -1   \n",
       "4 2020-07-01  Renda Variavel3      False       500  98.65          1   \n",
       "\n",
       "   FinanceiroTotal  \n",
       "0            970.0  \n",
       "1          -9000.0  \n",
       "2           -970.0  \n",
       "3         -16146.0  \n",
       "4          49325.0  "
      ]
     },
     "execution_count": 14,
     "metadata": {},
     "output_type": "execute_result"
    }
   ],
   "source": [
    "Trade(TradeList).financeiro_total()"
   ]
  },
  {
   "cell_type": "code",
   "execution_count": 15,
   "metadata": {},
   "outputs": [
    {
     "data": {
      "text/plain": [
       "[['Renda Variavel', -180], ['Renda Variavel3', 500]]"
      ]
     },
     "execution_count": 15,
     "metadata": {},
     "output_type": "execute_result"
    }
   ],
   "source": [
    "Trade(TradeList).posicao_instrumento('2020-08-30')"
   ]
  }
 ],
 "metadata": {
  "kernelspec": {
   "display_name": "Python 3",
   "language": "python",
   "name": "python3"
  },
  "language_info": {
   "codemirror_mode": {
    "name": "ipython",
    "version": 3
   },
   "file_extension": ".py",
   "mimetype": "text/x-python",
   "name": "python",
   "nbconvert_exporter": "python",
   "pygments_lexer": "ipython3",
   "version": "3.8.3"
  }
 },
 "nbformat": 4,
 "nbformat_minor": 4
}
